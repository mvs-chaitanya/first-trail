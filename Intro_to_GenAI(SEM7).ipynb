{
  "nbformat": 4,
  "nbformat_minor": 0,
  "metadata": {
    "colab": {
      "provenance": [],
      "authorship_tag": "ABX9TyOHbBNg6pUfcdUnpraat2cr",
      "include_colab_link": true
    },
    "kernelspec": {
      "name": "python3",
      "display_name": "Python 3"
    },
    "language_info": {
      "name": "python"
    }
  },
  "cells": [
    {
      "cell_type": "markdown",
      "metadata": {
        "id": "view-in-github",
        "colab_type": "text"
      },
      "source": [
        "<a href=\"https://colab.research.google.com/github/mvs-chaitanya/first-trail/blob/main/Intro_to_GenAI(SEM7).ipynb\" target=\"_parent\"><img src=\"https://colab.research.google.com/assets/colab-badge.svg\" alt=\"Open In Colab\"/></a>"
      ]
    },
    {
      "cell_type": "code",
      "execution_count": null,
      "metadata": {
        "id": "tsJUpn_srwks"
      },
      "outputs": [],
      "source": []
    },
    {
      "cell_type": "code",
      "source": [
        "import math\n",
        "\n",
        "num = float(input(\"Enter a number: \"))\n",
        "\n",
        "\n",
        "if num >= 0:\n",
        "  sqrt_num = math.sqrt(num)\n",
        "  print(f\"The square root of {num} is {sqrt_num}\")\n",
        "else:\n",
        "  print(\"Cannot calculate the square root of a negative number\")"
      ],
      "metadata": {
        "colab": {
          "base_uri": "https://localhost:8080/"
        },
        "id": "jqgVcVQusiWl",
        "outputId": "b56abc7a-0537-4d0b-dfeb-4f4f22ee65d9"
      },
      "execution_count": null,
      "outputs": [
        {
          "output_type": "stream",
          "name": "stdout",
          "text": [
            "Enter a number: 16\n",
            "The square root of 16.0 is 4.0\n"
          ]
        }
      ]
    },
    {
      "cell_type": "code",
      "source": [
        "\n",
        "a = input(\"Enter the first value (a): \")\n",
        "b = input(\"Enter the second value (b): \")\n",
        "\n",
        "print(\"\\nBefore swapping:\")\n",
        "print(\"a =\", a)\n",
        "print(\"b =\", b)\n",
        "\n",
        "\n",
        "a, b = b, a\n",
        "\n",
        "print(\"\\nAfter swapping:\")\n",
        "print(\"a =\", a)\n",
        "print(\"b =\", b)\n"
      ],
      "metadata": {
        "colab": {
          "base_uri": "https://localhost:8080/"
        },
        "id": "2pkFqc14tr6u",
        "outputId": "e2e31278-f88d-4f69-b1e6-11b9ccc8ad59"
      },
      "execution_count": null,
      "outputs": [
        {
          "output_type": "stream",
          "name": "stdout",
          "text": [
            "Enter the first value (a): 2\n",
            "Enter the second value (b): 4\n",
            "\n",
            "Before swapping:\n",
            "a = 2\n",
            "b = 4\n",
            "\n",
            "After swapping:\n",
            "a = 4\n",
            "b = 2\n"
          ]
        }
      ]
    },
    {
      "cell_type": "code",
      "source": [
        "\n",
        "num = int(input(\"Enter an integer: \"))\n",
        "\n",
        "\n",
        "if num > 0:\n",
        "    print(\"The number is positive.\")\n",
        "elif num < 0:\n",
        "    print(\"The number is negative.\")\n",
        "else:\n",
        "    print(\"The number is zero.\")\n"
      ],
      "metadata": {
        "colab": {
          "base_uri": "https://localhost:8080/"
        },
        "id": "rmqq8Im7vnBs",
        "outputId": "dd7dab53-e52a-4b28-dc2b-b9ca14a07fd2"
      },
      "execution_count": null,
      "outputs": [
        {
          "output_type": "stream",
          "name": "stdout",
          "text": [
            "Enter an integer: -4\n",
            "The number is negative.\n"
          ]
        }
      ]
    },
    {
      "cell_type": "code",
      "source": [
        "n=int(input())\n",
        "\n",
        "if n%2==0:\n",
        "  print(\"Even:\",n)\n",
        "else:\n",
        "  print(\"Odd:\",n)"
      ],
      "metadata": {
        "colab": {
          "base_uri": "https://localhost:8080/"
        },
        "id": "GqCR4Yy2wseH",
        "outputId": "df1b0fd9-7836-487f-ccd3-ae7843c8dfc9"
      },
      "execution_count": null,
      "outputs": [
        {
          "output_type": "stream",
          "name": "stdout",
          "text": [
            "4\n",
            "Even: 4\n"
          ]
        }
      ]
    },
    {
      "cell_type": "code",
      "source": [
        "num = int(input(\"Enter a number to find its factorial: \"))\n",
        "\n",
        "\n",
        "if num < 0:\n",
        "    print(\"Factorial is not defined for negative numbers.\")\n",
        "elif num == 0 or num == 1:\n",
        "    print(\"The factorial of\", num, \"is 1.\")\n",
        "else:\n",
        "    factorial = 1\n",
        "    for i in range(2, num + 1):\n",
        "        factorial *= i\n",
        "    print(\"The factorial of\", num, \"is\", factorial)\n"
      ],
      "metadata": {
        "colab": {
          "base_uri": "https://localhost:8080/"
        },
        "id": "0ifUSgk2yUPB",
        "outputId": "2c443b92-f682-4ea6-aa7e-a53fd54dfd91"
      },
      "execution_count": null,
      "outputs": [
        {
          "output_type": "stream",
          "name": "stdout",
          "text": [
            "Enter a number to find its factorial: 4\n",
            "The factorial of 4 is 24\n"
          ]
        }
      ]
    },
    {
      "cell_type": "code",
      "source": [
        "import pandas as pd\n",
        "\n",
        "\n",
        "data = {\n",
        "    'name': ['Alice', 'Bob', 'Charlie', 'David'],\n",
        "    'age': [22, 25, 30, 19],\n",
        "    'city': ['New York', 'Los Angeles', 'Chicago', 'Houston']\n",
        "}\n",
        "\n",
        "df = pd.DataFrame(data)\n",
        "\n",
        "print(\"Age attribute:\")\n",
        "print(df['age'])\n",
        "\n",
        "print(\"\\nPeople with age 25 or above:\")\n",
        "print(df[df['age'] >= 25])\n",
        "\n"
      ],
      "metadata": {
        "colab": {
          "base_uri": "https://localhost:8080/"
        },
        "id": "gvAx0IXd1Cec",
        "outputId": "892030fd-0d6f-436c-dc2f-ac769954d082"
      },
      "execution_count": null,
      "outputs": [
        {
          "output_type": "stream",
          "name": "stdout",
          "text": [
            "Age attribute:\n",
            "0    22\n",
            "1    25\n",
            "2    30\n",
            "3    19\n",
            "Name: age, dtype: int64\n",
            "\n",
            "People with age 25 or above:\n",
            "      name  age         city\n",
            "1      Bob   25  Los Angeles\n",
            "2  Charlie   30      Chicago\n"
          ]
        }
      ]
    }
  ]
}